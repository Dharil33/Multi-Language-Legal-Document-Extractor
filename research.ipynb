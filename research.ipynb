{
 "cells": [
  {
   "cell_type": "code",
   "execution_count": 2,
   "metadata": {},
   "outputs": [
    {
     "data": {
      "text/plain": [
       "True"
      ]
     },
     "execution_count": 2,
     "metadata": {},
     "output_type": "execute_result"
    }
   ],
   "source": [
    "from dotenv import load_dotenv\n",
    "load_dotenv()"
   ]
  },
  {
   "cell_type": "code",
   "execution_count": 3,
   "metadata": {},
   "outputs": [
    {
     "name": "stderr",
     "output_type": "stream",
     "text": [
      "/Users/pateld/Documents/Multi-Language-Legal-Document-Extractor/legalenv/lib/python3.10/site-packages/tqdm/auto.py:21: TqdmWarning: IProgress not found. Please update jupyter and ipywidgets. See https://ipywidgets.readthedocs.io/en/stable/user_install.html\n",
      "  from .autonotebook import tqdm as notebook_tqdm\n"
     ]
    }
   ],
   "source": [
    "import google.generativeai as genai\n",
    "import os\n",
    "genai.configure(api_key=os.environ.get(\"GOOGLE_API_KEY\"))"
   ]
  },
  {
   "cell_type": "code",
   "execution_count": 4,
   "metadata": {},
   "outputs": [],
   "source": [
    "from langchain import PromptTemplate\n",
    "from langchain.chains.question_answering import load_qa_chain\n",
    "from langchain.document_loaders import PyPDFLoader\n",
    "from langchain.text_splitter import RecursiveCharacterTextSplitter\n",
    "from langchain.vectorstores import Chroma"
   ]
  },
  {
   "cell_type": "code",
   "execution_count": 5,
   "metadata": {},
   "outputs": [],
   "source": [
    "! pip install -q --upgrade google-generativeai langchain-google-genai python-dotenv"
   ]
  },
  {
   "cell_type": "code",
   "execution_count": 6,
   "metadata": {},
   "outputs": [],
   "source": [
    "from langchain_google_genai import ChatGoogleGenerativeAI\n",
    "model = ChatGoogleGenerativeAI(model=\"gemini-pro\",\n",
    "                             temperature=0.3)"
   ]
  },
  {
   "cell_type": "code",
   "execution_count": 7,
   "metadata": {},
   "outputs": [],
   "source": [
    "pdf_loader = PyPDFLoader(\"/Users/pateld/Documents/Multi-Language-Legal-Document-Extractor/Hariom_Agrawal_vs_Prakash_Chand_Malviya_on_8_October_2007.PDF\")\n",
    "pages = pdf_loader.load_and_split()\n",
    "# print(pages[3].page_content)"
   ]
  },
  {
   "cell_type": "code",
   "execution_count": 8,
   "metadata": {},
   "outputs": [],
   "source": [
    "prompt_template = \"\"\"You are a legal expert in understanding legal documents.\n",
    "                    Answer the question as precise as possible using the provided context. \\n\\n\n",
    "                    Context: \\n {context}?\\n\n",
    "                    Question: \\n {question} \\n\n",
    "                    Answer:\n",
    "                  \"\"\"\n",
    "\n",
    "prompt = PromptTemplate(\n",
    "    template=prompt_template, input_variables=[\"context\", \"question\"]\n",
    ")"
   ]
  },
  {
   "cell_type": "code",
   "execution_count": 9,
   "metadata": {},
   "outputs": [],
   "source": [
    "stuff_chain = load_qa_chain(\n",
    "    model,\n",
    "    chain_type=\"stuff\",\n",
    "    prompt=prompt\n",
    ")"
   ]
  },
  {
   "cell_type": "code",
   "execution_count": 10,
   "metadata": {},
   "outputs": [],
   "source": [
    "question = \"What is the name of PETITIONER?\"\n",
    "stuff_answer = stuff_chain(\n",
    "    {\n",
    "        \"input_documents\": pages,\n",
    "        \"question\": question\n",
    "    },\n",
    "    return_only_outputs=True\n",
    ")"
   ]
  },
  {
   "cell_type": "code",
   "execution_count": 11,
   "metadata": {},
   "outputs": [
    {
     "name": "stdout",
     "output_type": "stream",
     "text": [
      "{'output_text': 'Hariom Agrawal'}\n"
     ]
    }
   ],
   "source": [
    "print(stuff_answer)"
   ]
  },
  {
   "cell_type": "code",
   "execution_count": 12,
   "metadata": {},
   "outputs": [],
   "source": [
    "question = \"Give the Summary of the Judgement\"\n",
    "stuff_answer = stuff_chain(\n",
    "    {\n",
    "        \"input_documents\": pages,\n",
    "        \"question\": question\n",
    "    },\n",
    "    return_only_outputs=True\n",
    ")"
   ]
  },
  {
   "cell_type": "code",
   "execution_count": 13,
   "metadata": {},
   "outputs": [
    {
     "name": "stdout",
     "output_type": "stream",
     "text": [
      "{'output_text': \"- The case involved a dispute between a landlord and a tenant over the validity of a rental agreement.\\n- The original agreement was lost, and the tenant sought to introduce a photocopy as secondary evidence.\\n- The High Court held that the photocopy could not be admitted as evidence because it was not properly stamped.\\n- The Supreme Court agreed with the High Court's decision, holding that a photocopy of an improperly stamped original document cannot be admitted as secondary evidence under the Indian Stamp Act, 1899.\\n- The Court also held that Section 37 of the Act, which allows for the correction of improperly stamped instruments, does not apply to copies of documents.\\n- Finally, the Court held that Section 48-B of the Act, which allows the Collector to impound an original instrument based on a copy, does not authorize the Collector to impound a copy of an instrument.\"}\n"
     ]
    }
   ],
   "source": [
    "print(stuff_answer)"
   ]
  },
  {
   "cell_type": "markdown",
   "metadata": {},
   "source": [
    "#RAG Pipeline: Embedding + LLM"
   ]
  },
  {
   "cell_type": "code",
   "execution_count": 34,
   "metadata": {},
   "outputs": [],
   "source": [
    "from langchain_google_genai import GoogleGenerativeAIEmbeddings\n",
    "text_splitter = RecursiveCharacterTextSplitter(\n",
    "    chunk_size=200,\n",
    "    chunk_overlap=0\n",
    ")\n",
    "context = \"\\n\\n\".join(str(p) for p in pages)\n",
    "texts = text_splitter.split_text(context)"
   ]
  },
  {
   "cell_type": "code",
   "execution_count": 35,
   "metadata": {},
   "outputs": [
    {
     "name": "stdout",
     "output_type": "stream",
     "text": [
      "[\"page_content='Supreme Court of India\\\\nHariom Agrawal vs Prakash Chand Malviya on 8 October, 2007\\\\nAuthor: P Naolekar\\\\nBench: B.N. Agrawal, P.P. Naolekar, P. Sathasivam\\\\n           CASE NO.:\\\\nAppeal\", '(civil)  4696 of 2007\\\\nPETITIONER:\\\\nHariom Agrawal\\\\nRESPONDENT:\\\\nPrakash Chand Malviya\\\\nDATE OF JUDGMENT: 08/10/2007\\\\nBENCH:\\\\nB.N. AGRAWAL,P.P. NAOLEKAR & P. SATHASIVAM\\\\nJUDGMENT:\\\\nJ U D G M E N T', '(arising out of Special Leave Petition (Civil)No.12573 of 2006) P.P. NAOLEKAR,\\\\nJ.:\\\\n1. Leave granted.\\\\n2. The facts necessary for deciding the question involved in the case are that one Maganlal', 'Jain was\\\\nthe original tenant of Prakash Chand Malviya, the respondent- landlord. Maganlal Jain had given\\\\nthe shop to the appellant for carrying out the business. On a dispute being arisen between', 'the\\\\nrespondent-landlord, the original tenant Maganlal Jain and the appellant herein, an agreement was\\\\nexecuted on 28.3.1988 by the respondent (landlord) and the appellant (subsequent tenant),', 'whereby\\\\nthe landlord tenanted the shop to the appellant on payment of an advance amount of Rs.4,75,000/-\\\\nwhich was received by the landlord in cash in front of the witnesses. The agreement further', 'provided\\\\nthat in case the landlord requires eviction of the tenant from the shop he will have to give notice of 6\\\\nmonths to the tenant and will also refund the payment of Rs.4,75,000/- to the', 'tenant. On the other\\\\nhand, if the tenant wants to vacate the shop he will have to give prior notice of 6 months to the\\\\nlandlord and the landlord will pay back Rs.4,75,000/- to the tenant. This', 'document was affixed with\\\\na notarial stamp of Rs.4/-. Under the Indian Stamp Act, 1899 (for short □the Act□), agreement of\\\\nthis nature requires affixture of a stamp of Re.1/- under Schedule I, Item', '42 of the said Act.\\\\n3. On 12.5.2003 a suit for eviction was filed by the respondent-landlord before the Civil Judge,\\\\nBhopal under Section 12(1)(f) of the Madhya Pradesh Accommodation Control Act,', 'stating the\\\\nbonafide need for the use of the accommodation by his elder son. It was the case of the\\\\nappellant-tenant that the original copy of the agreement which was with him was stolen and thus', 'he\\\\nwas unable to produce the original document dated 28.3.1988, but was in possession of a photostat\\\\ncopy of the agreement and made a prayer for receipt of the photocopy of the agreement as', 'secondary\\\\nevidence under Section 63 of the Indian Evidence Act, 1872. The trial court allowed the application\\\\nfor admission of the photocopy of the document and admitted it as secondary evidence', \"underHariom Agrawal vs Prakash Chand Malviya on 8 October, 2007\\\\nIndian Kanoon - http://indiankanoon.org/doc/1515290/ 1' metadata={'source':\", \"'/Users/pateld/Documents/Multi-Language-Legal-Document-Extractor/Hariom_Agrawal_vs_Prakash_Chand_Malviya_on_8_October_2007.PDF', 'page': 0}\", \"page_content='Section 63 of the Evidence Act.\\\\n4. On being aggrieved by the order of the trial court, the respondent-landlord filed a writ petition\\\\nbefore the High Court. The High Court set aside\", 'the order of the trial court and remitted the matter\\\\nback to decide the question as to whether a photocopy of an improperly stamped original document\\\\ncan be received in secondary evidence. After', 'hearing the parties, the trial court by its order dated\\\\n9.8.2005 ordered that the document be impounded, it being insufficiently stamped; the document\\\\nwas sent to the Collector of Stamps for', 'affixing appropriate stamp duty and thereafter for sending\\\\nthe document back to the court. This order was challenged by the respondent in a review petition\\\\nwhich was dismissed by the trial court.', 'Thereafter, a writ petition was filed before the High Court.\\\\nThe High Court by its judgment dated 3.5.2006 held that the impugned document which is a\\\\nphotocopy of the agreement, original of which', 'is lost, cannot be admitted in evidence; and that such\\\\na document can neither be impounded nor can be accepted in secondary evidence.\\\\n5. It is an admitted fact that the photostat copy which is', 'sought to be produced as secondary\\\\nevidence does not show that on the original agreement proper stamp duty was paid. The photostat\\\\ncopy of the agreement shows that the original agreement carried', 'only a notarial stamp of Rs.4/-.\\\\nThus the original instrument bears the stamp of sufficient amount but of improper description.\\\\nFrom the facts of the case, the issue which requires consideration', 'is: Whether the court can\\\\nimpound the photocopy of the instrument (document) of improper description exercising its power\\\\nunder the provisions of the Indian Stamp Act, 1899?. For answering this', 'question, Sections 33 and\\\\n35 of the Act might render some help. Relevant extracts of the Sections are :\\\\n›3. Examination and impounding of instruments □ (1) Every person by law or consent of', 'parties,\\\\nauthority to receive evidence, and every person in charge of a public office, except an officer of\\\\npolice, before whom any instrument, chargeable, in his opinion, with duty, is produced or', 'comes in\\\\nthe performance of his functions, shall, if it appears to him that such instrument is not duly\\\\nstamped, impound the same.\\\\n(2) For that purpose every such person shall examine every', 'instrument so chargeable and so\\\\nproduced or coming before him, in order to ascertain whether it is stamped with a stamp of the\\\\nvalue and description required by the law in force in(India) when such', 'instrument was executed or\\\\nfirst executed:\\\\n□ □ □□ ›5. Instruments not duly stamped inadmissible in evidence, etc. - No instrument chargeable\\\\nwith duty shall be admitted in evidence for any person', 'having by law or consent of parties to receive\\\\nevidence, or shall be acted upon, registered or authenticated by any such person or by any public\\\\nofficer, unless such instrument is duly stamped:\\\\n□', '□ □□\\\\n6. Section 33 gives power to the authority to check whether the instrument has been duly stamped\\\\nand in case it is not duly stamped, to take steps to impound the same by proper stamp duty on', 'the\\\\nsaid document. This power can be exercised in regard to an `instrument□. Section 2(14) of the ActHariom Agrawal vs Prakash Chand Malviya on 8 October, 2007\\\\nIndian Kanoon -', \"http://indiankanoon.org/doc/1515290/ 2' metadata={'source': '/Users/pateld/Documents/Multi-Language-Legal-Document-Extractor/Hariom_Agrawal_vs_Prakash_Chand_Malviya_on_8_October_2007.PDF', 'page': 1}\", \"page_content='defines `instrument□ as:\\\\n□Instrument□ includes every document by which any right or liability is, or purports to be, created,\\\\ntransferred, limited, extended, extinguished or\", 'record.□\\\\n7. The instrument as per definition under Section 2(14) has a reference to the original instrument. In\\\\nState of Bihar v. M/s. Karam Chand Thapar & Brothers Ltd., AIR 1962 SC 110, this', 'Court in\\\\nparagraph 6 of the judgment held as under :-\\\\nž. It is next contended that as the copy of the award in court was unstamped, no decree could have\\\\nbeen passed thereon. The facts are that the', 'arbitrator sent to each of the parties a copy of the award\\\\nsigned by him and a third copy also signed by him was sent to the court. The copy of the award\\\\nwhich was sent to the Government would', 'appear to have been insufficiently stamped. If that had\\\\nbeen produced in court, it could have been validated on payment of the deficiency and penalty under\\\\nS.35 of the Indian Stamp Act, 1899. But', 'the Government has failed to produce the same. The copy of\\\\nthe award which was sent to the respondents is said to have been seized by the police along with\\\\nother papers and is not now available.', 'When the third copy was received in court, the respondents\\\\npaid the requisite stamp duty under S.35 of the Stamp Act and had it validated. Now the contention\\\\nof the appellant is that the instrument', 'actually before the court is, what it purports to be, □a certified\\\\ncopy□, and that under S.35 of the Stamp Act there can be validation only of the original, when it is\\\\nunstamped or insufficiently', 'stamped, that the document in court which is a copy cannot be validated\\\\nand □acted upon□ and that in consequence no decree could be passed thereon. The law is no doubt\\\\nwell- settled that the copy', 'of an instrument cannot be validated. That was held in Rajah of Bobbili v.\\\\nInuganti China Sitaramasami Garu, 26 Ind App 262, where it was observed :\\\\n□The provisions of this section (section 35)', 'which allow a document to be admitted in evidence on\\\\npayment of penalty, have no application when the original document, which was unstamped or was\\\\ninsufficiently stamped, has not been produced;', 'and, accordingly, secondary evidence of its contents\\\\ncannot be given. To hold otherwise would be to add to the Act a provision which it does not contain.\\\\nPayment of penalty will not render', 'secondary evidence admissible, for under the stamp law penalty\\\\nis leviable only on an unstamped or insufficiently stamped document actually produced in Court and\\\\nthat law does not provide for the', 'levy of any penalty on lost documents□ □ □. □□ This Court had an\\\\noccasion again to consider the scope and ambit of Sections 33(1), 35 and 36 of the Act and Section\\\\n63 of the Indian Evidence Act in', 'Jupudi Kesava Rao v. Pulavarthi Venkata Subbarao and others AIR\\\\n1971 SC 1070 and held that :-\\\\n™3. The first limb of Section 35 clearly shuts out from evidence any instrument chargeable with\\\\nduty', 'unless it is duly stamped. The second limb of it which relates to acting upon the instrument will\\\\nobviously shut out any secondary evidence of such instrument, for allowing such evidence to be', 'let\\\\nin when the original admittedly chargeable with duty was not stamped or insufficiently stamped,\\\\nwould be tantamount to the document being acted upon by the person having by law or authority', 'to\\\\nreceive evidence. Proviso (a) is only applicable when the original instrument is actually before the\\\\nCourt of law and the deficiency in stamp with penalty is paid by the party seeking to rely', 'upon the\\\\ndocument. Clearly secondary evidence either by way of oral evidence of the contents of theHariom Agrawal vs Prakash Chand Malviya on 8 October, 2007\\\\nIndian Kanoon -', \"http://indiankanoon.org/doc/1515290/ 3' metadata={'source': '/Users/pateld/Documents/Multi-Language-Legal-Document-Extractor/Hariom_Agrawal_vs_Prakash_Chand_Malviya_on_8_October_2007.PDF', 'page': 2}\", \"page_content='unstamped document or the copy of it covered by Section 63 of the Indian Evidence Act would not\\\\nfulfil the requirements of the proviso which enjoins upon the authority to receive\", 'nothing in\\\\nevidence except the instrument itself. Section 35 is not concerned with any copy of an instrument\\\\nand a party can only be allowed to rely on a document which is an instrument for the', 'purpose of\\\\nSection 35. `Instrument□ is defined in Section 2(14) as including every document by which any right\\\\nor liability is, or purports to be created, transferred, limited, extended,', 'extinguished or recorded.\\\\nThere is no scope for inclusion of a copy of a document as an instrument for the purpose of the\\\\nStamp Act.\\\\n14. If Section 35 only deals with original instruments and not', 'copies Section 36 cannot be so\\\\ninterpreted as to allow secondary evidence of an instrument to have its benefit. The words □an\\\\ninstrument□ in Section 36 must have the same meaning as that in Section', '35. The legislature only\\\\nrelented from the strict provisions of Section 35 in cases where the original instrument was admitted\\\\nin evidence without objection at the initial stage of a suit or', 'proceeding. In other words, although the\\\\nobjection is based on the insufficiency of the stamp affixed to the document, a party who has a right\\\\nto object to the reception of it must do so when the', 'document is first tendered. Once the time for\\\\nraising objection to the admission of the documentary evidence is passed, no objection based on the\\\\nsame ground can be raised at a later stage. But', 'this in no way extends the applicability of Sec.36 to\\\\nsecondary evidence adduced or sought to be adduced in proof of the contents of a document which\\\\nis unstamped or insufficiently stamped.□\\\\n8. It', 'is clear from the decisions of this Court and a plain reading of Sections 33, 35 and 2(14) of the\\\\nAct that an instrument which is not duly stamped can be impounded and when the required fee', 'and\\\\npenalty has been paid for such instrument it can be taken in evidence under Section 35 of the Stamp\\\\nAct. Sections 33 or 35 are not concerned with any copy of the instrument and party can only', 'be\\\\nallowed to rely on the document which is an instrument within the meaning of Section 2(14). There\\\\nis no scope for the inclusion of the copy of the document for the purposes of the Indian Stamp', 'Act.\\\\nLaw is now no doubt well settled that copy of the instrument cannot be validated by impounding\\\\nand this cannot be admitted as secondary evidence under the Indian Stamp Act, 1899.\\\\n9. The', 'learned counsel for the appellant submitted that the High Court was guided by the decisions\\\\nrendered by this Court while deciding the question involved in the case whether original document\\\\nwas', 'unstamped or not properly stamped and not in regard to a document which was although\\\\nstamped but was improperly stamped. As per the learned counsel, the case in hand shall be\\\\ngoverned by Section 37', 'of the Act and not by Section 33 read with Section 35 of the Act. The learned\\\\ncounsel further urged that the High Court has committed an error in overlooking Section 48-B\\\\ninserted by Indian Stamp', '(Madhya Pradesh Amendment) Act, 1990 (No. 24 of 1990], which received\\\\nassent of the President and was published in the Madhya Pradesh Gazette (Extraordinary) dated\\\\n27.11.1990, applicable in the', 'State of Madhya Pradesh whereby the Collector is authorized even to\\\\nimpound copy of the instrument.\\\\n10. Section 33 refers to the power of the authority to impound the instrument not duly stamped,', 'and\\\\nby virtue of Section 35 any document which is not duly stamped shall not be admitted in evidence.Hariom Agrawal vs Prakash Chand Malviya on 8 October, 2007\\\\nIndian Kanoon -', \"http://indiankanoon.org/doc/1515290/ 4' metadata={'source': '/Users/pateld/Documents/Multi-Language-Legal-Document-Extractor/Hariom_Agrawal_vs_Prakash_Chand_Malviya_on_8_October_2007.PDF', 'page': 3}\", \"page_content='11. Section 37 of the Act reads as under:\\\\n›7. Admission of improperly stamped instruments.- The State Government may make rules\\\\nproviding that, where an instrument bears a stamp of\", 'sufficient amount but of improper description,\\\\nit may, on payment of the duty with which the same is chargeable be certified to be duly stamped,\\\\nand any instrument so certified shall then be deemed', 'to have been duly stamped as from the date of\\\\nits execution. □ Under this provision, the State Government is authorized to make rules providing\\\\ntherein to impound any instrument which bears a stamp', 'of sufficient amount but of improper\\\\ndescription and on payment of chargeable duty to certify it to be duly stamped and to treat such\\\\ndocument as duly stamped as on the date of its execution.\\\\n12.', 'In the State of Madhya Pradesh, Rule 19 of the Madhya Pradesh Stamp Rules, 1942 permits\\\\npayment of duty on the instrument which carries stamp of proper amount but of improper\\\\ndescription. The said', 'Rule reads as under: □When an instrument bears a stamp of proper amount\\\\nbut of improper description, the Collector may, on payment of the duty with which the instrument is\\\\nchargeable, certify by', 'endorsement that it is duly stamped:\\\\nProvided that if application is made within three months of the execution of the instrument, and\\\\nCollector is satisfied that the improper description of stamp', 'was used solely on account of the\\\\ndifficulty of inconvenience of procuring one of the proper description, he may remit the further\\\\npayment of duty prescribed in this rule.□\\\\n13. Section 37 of the', 'Act would be attracted where although the instrument bears a stamp of\\\\nsufficient amount but such stamp is of improper description, as in the present case where the proper\\\\nstamp duty of Re.1/- under', 'the Act has not been paid but a notarized stamp of Rs.4/- was affixed on\\\\nthe document. The sufficient amount of the stamp duty has been paid but the duty paid by means of\\\\naffixture of notarized', 'stamp is of improper description. By virtue of Rule 19 of the Madhya Pradesh\\\\nStamp Rules, 1942, the Collector of Stamp is authorized to receive the proper stamp duty on an\\\\ninstrument which bears a', 'stamp of proper amount but of improper description, and on payment of\\\\nthe adequate duty chargeable under the Act he would certify by endorsement on the instrument that\\\\nthe instrument is duly', 'stamped. Under the proviso to the Rule, the Collector may pardon the further\\\\npayment of duty prescribed in this Rule provided the person holding the original instrument moves\\\\nthe Collector within', 'three months of the execution of the instrument for certification by\\\\nendorsement and the Collector is satisfied that the stamp of improper description was used solely on\\\\nthe account of the', 'difficulty or inconvenience of the holder of the instrument to procure the\\\\nadequate stamp duty required to be paid on the instrument. But the power under Section 37 and\\\\nRule 19, even after framing', 'the rules by the State Government, could only be exercised for a\\\\ndocument which is an instrument as described under Section 2(14). By various authorities of this\\\\nCourt, an instrument is held to be', 'an original instrument and does not include a copy thereof.\\\\nTherefore, Section 37 and Rule 19 would not be applicable where a copy of the document is sought\\\\nto be produced for impounding or for', 'admission as evidence in a case.\\\\n14. Section 48-B is a provision applicable in the State of Madhya Pradesh which was inserted by\\\\nIndian Stamp (M.P. Amendment) Act, 1990 (No. 24 of 1990] in Chapter', \"IV under headingHariom Agrawal vs Prakash Chand Malviya on 8 October, 2007\\\\nIndian Kanoon - http://indiankanoon.org/doc/1515290/ 5' metadata={'source':\", \"'/Users/pateld/Documents/Multi-Language-Legal-Document-Extractor/Hariom_Agrawal_vs_Prakash_Chand_Malviya_on_8_October_2007.PDF', 'page': 4}\", \"page_content='□Instrument not duly stamped□ of the Act. This Section reads as under:\\\\nœ8-B. Original instrument to be produced before the Collector in case of deficiency. □ Where the\\\\ndeficiency of\", 'stamp duty is noticed from a copy of any instrument, the Collector may by order\\\\nrequire the production of original instrument from a person in possession or in custody of the\\\\noriginal instrument', 'for the purpose of satisfying himself as to the adequacy of amount of duty paid\\\\nthereon. If the original instrument is not produced before him within the period specified in the\\\\norder, it shall be', 'presumed that the original document is not duly stamped and the Collector may\\\\nproceed in the manner provided in this Chapter:\\\\nProvided that no action under this section shall be taken after a', 'period of five years from the date of\\\\nexecution of such instrument.□\\\\n15. On a plain reading of Section 48-B, we do not find that the submission of the learned counsel for\\\\nthe appellant that by', 'virtue of this provision the Collector has been authorized to impound even\\\\ncopy of the instrument, is correct. Under this Section where the deficiency of stamp duty is noticed\\\\nfrom the copy of any', 'instrument, the Collector may call for the original document for inspection,\\\\nand on failure to produce the original instrument could presume that proper stamp duty was not\\\\npaid on the original', 'instrument and, thus, recover the same from the person concerned. Section\\\\n48-B does not relate to the instrument, i.e., the original document to be presented before any person\\\\nwho is authorized to', 'receive the document in evidence to be impounded on inadequacy of stamp\\\\nduty found. The Section uses the phraseology □where the deficiency of stamp duty is noticed from a\\\\ncopy of any instrument□.', 'Therefore, when the deficiency of stamp duty from a copy of the\\\\ninstrument is noticed by the Collector, the Collector is authorised to act under this Section. On\\\\ndeficiency of stamp duty being', 'noticed from the copy of the instrument, the Collector would order\\\\nproduction of original instrument from a person in possession or in custody of the original\\\\ninstrument. Production is required by', 'the Collector for the purpose of satisfying himself whether\\\\nadequate stamp duty had been paid on the original instrument or not. In the notice given to person\\\\nin possession or in custody of', 'original instrument, the Collector shall provide for time within which\\\\nthe original document is required to be produced before him. If, in spite of the notice, the original is\\\\nnot produced before', 'the Collector, the Collector would draw a presumption that original document\\\\nis not duly stamped and thereafter may proceed in the manner provided in Chapter IV. By virtue of\\\\nproviso, the step for', 'recovery of adequate stamp duty on the original instrument on insufficiency of\\\\nthe stamp duty paid being noticed from the copy of the instrument, can only be taken within five\\\\nyears from the date', 'of execution of such instrument. The words □the Collector may proceed in the\\\\nmanner provided in this Chapter□ has reference to Section 48 of the Act. Under this Section, all\\\\nduties, penalties and', 'other sums required to be paid under Chapter IV, which includes stamp duty,\\\\nwould be recovered by the Collector by distress and sale of the movable property of the person who\\\\nhas been called upon', 'to pay the adequate stamp duty or he can implement the method of recovery of\\\\narrears of land revenue for the dues of stamp duty. By virtue of proviso to Section 48-B, the\\\\nCollector□s power to', 'adjudicate upon the adequacy of stamp duty on the original instrument on the\\\\nbasis of copy of the instrument is restricted to the period of five years from the date of execution of\\\\nthe original', 'instrument. This Section only authorizes the Collector to recover the adequate stamp\\\\nduty which has been avoided at the time of execution of the original instrument. This Section doesHariom Agrawal', \"vs Prakash Chand Malviya on 8 October, 2007\\\\nIndian Kanoon - http://indiankanoon.org/doc/1515290/ 6' metadata={'source':\", \"'/Users/pateld/Documents/Multi-Language-Legal-Document-Extractor/Hariom_Agrawal_vs_Prakash_Chand_Malviya_on_8_October_2007.PDF', 'page': 5}\", \"page_content='not authorize the Collector to impound the copy of the instrument.\\\\n16. For the reasons stated above, the appeal fails and is dismissed.\\\\n17. There shall be no order as to costs.Hariom\", \"Agrawal vs Prakash Chand Malviya on 8 October, 2007\\\\nIndian Kanoon - http://indiankanoon.org/doc/1515290/ 7' metadata={'source':\", \"'/Users/pateld/Documents/Multi-Language-Legal-Document-Extractor/Hariom_Agrawal_vs_Prakash_Chand_Malviya_on_8_October_2007.PDF', 'page': 6}\"]\n"
     ]
    }
   ],
   "source": [
    "print(texts)"
   ]
  },
  {
   "cell_type": "code",
   "execution_count": 36,
   "metadata": {},
   "outputs": [],
   "source": [
    "embeddings = GoogleGenerativeAIEmbeddings(model=\"models/embedding-001\")\n",
    "vector_index = Chroma.from_texts(texts,embeddings).as_retriever()"
   ]
  },
  {
   "cell_type": "code",
   "execution_count": 46,
   "metadata": {},
   "outputs": [],
   "source": [
    "question = \"What is the date of Judgement?\"\n",
    "docs = vector_index.get_relevant_documents(question)\n",
    "stuff_answer = stuff_chain(\n",
    "    {\n",
    "        \"input_documents\": docs,\n",
    "        \"question\": question\n",
    "    },\n",
    "    return_only_outputs=True\n",
    ")"
   ]
  },
  {
   "cell_type": "code",
   "execution_count": 47,
   "metadata": {},
   "outputs": [
    {
     "name": "stdout",
     "output_type": "stream",
     "text": [
      "{'input_documents': [Document(page_content='(civil)  4696 of 2007\\\\nPETITIONER:\\\\nHariom Agrawal\\\\nRESPONDENT:\\\\nPrakash Chand Malviya\\\\nDATE OF JUDGMENT: 08/10/2007\\\\nBENCH:\\\\nB.N. AGRAWAL,P.P. NAOLEKAR & P. SATHASIVAM\\\\nJUDGMENT:\\\\nJ U D G M E N T'), Document(page_content='(civil)  4696 of 2007\\\\nPETITIONER:\\\\nHariom Agrawal\\\\nRESPONDENT:\\\\nPrakash Chand Malviya\\\\nDATE OF JUDGMENT: 08/10/2007\\\\nBENCH:\\\\nB.N. AGRAWAL,P.P. NAOLEKAR & P. SATHASIVAM\\\\nJUDGMENT:\\\\nJ U D G M E N T'), Document(page_content='(civil)  4696 of 2007\\\\nPETITIONER:\\\\nHariom Agrawal\\\\nRESPONDENT:\\\\nPrakash Chand Malviya\\\\nDATE OF JUDGMENT: 08/10/2007\\\\nBENCH:\\\\nB.N. AGRAWAL,P.P. NAOLEKAR & P. SATHASIVAM\\\\nJUDGMENT:\\\\nJ U D G M E N T'), Document(page_content='Indian Kanoon - http://indiankanoon.org/doc/1515290/ 6')], 'question': 'What is the date of Judgement?', 'output_text': '08/10/2007'}\n"
     ]
    }
   ],
   "source": [
    "print(stuff_answer)"
   ]
  }
 ],
 "metadata": {
  "kernelspec": {
   "display_name": "Python 3",
   "language": "python",
   "name": "python3"
  },
  "language_info": {
   "codemirror_mode": {
    "name": "ipython",
    "version": 3
   },
   "file_extension": ".py",
   "mimetype": "text/x-python",
   "name": "python",
   "nbconvert_exporter": "python",
   "pygments_lexer": "ipython3",
   "version": "3.10.0"
  },
  "orig_nbformat": 4
 },
 "nbformat": 4,
 "nbformat_minor": 2
}
